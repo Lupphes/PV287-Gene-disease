{
 "cells": [
  {
   "cell_type": "code",
   "execution_count": null,
   "id": "3ef747fa-e121-4ba2-bd47-51b53c41542e",
   "metadata": {},
   "outputs": [],
   "source": [
    "import zipfile\n",
    "\n",
    "def unzip_file(zip_filepath, dest_path):\n",
    "    with zipfile.ZipFile(zip_filepath, 'r') as zip_ref:\n",
    "        zip_ref.extractall(dest_path)\n",
    "\n",
    "# Use the function\n",
    "zip_filepath = 'data.zip'  # replace with your zip file path\n",
    "dest_path = 'data'  # replace with the path where you want to extract files\n",
    "unzip_file(zip_filepath, dest_path)"
   ]
  }
 ],
 "metadata": {
  "kernelspec": {
   "display_name": "Python 3 (ipykernel)",
   "language": "python",
   "name": "python3"
  },
  "language_info": {
   "codemirror_mode": {
    "name": "ipython",
    "version": 3
   },
   "file_extension": ".py",
   "mimetype": "text/x-python",
   "name": "python",
   "nbconvert_exporter": "python",
   "pygments_lexer": "ipython3",
   "version": "3.8.10"
  }
 },
 "nbformat": 4,
 "nbformat_minor": 5
}
