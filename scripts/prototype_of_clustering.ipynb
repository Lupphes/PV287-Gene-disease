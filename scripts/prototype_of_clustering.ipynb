{
 "cells": [
  {
   "cell_type": "code",
   "execution_count": 1,
   "id": "4b8a5429-38be-43ea-94cb-966fc34c3e58",
   "metadata": {},
   "outputs": [],
   "source": [
    "import pandas as pd\n",
    "from sklearn.feature_extraction import DictVectorizer\n",
    "from sklearn.cluster import KMeans\n",
    "from ontobio.ontol_factory import OntologyFactory\n",
    "from ontobio.assoc_factory import AssociationSetFactory\n",
    "import os\n",
    "import json"
   ]
  },
  {
   "cell_type": "code",
   "execution_count": 2,
   "id": "cd4ab849-0f61-4fcb-8cc3-8ee67ccd0837",
   "metadata": {},
   "outputs": [],
   "source": [
    "FOLDER = \"./../data/\""
   ]
  },
  {
   "cell_type": "markdown",
   "id": "ae37a97b-eea3-44e9-9d48-7897293cc179",
   "metadata": {},
   "source": [
    "#### Data preparation for clustering"
   ]
  },
  {
   "cell_type": "code",
   "execution_count": 13,
   "id": "62b2d589-d4db-417f-9637-2d99f4db5cf5",
   "metadata": {},
   "outputs": [],
   "source": [
    "gene_disease_csv = pd.read_csv(FOLDER+ \"gene_disease_view.csv\")\n",
    "gene_disease_series = gene_disease_csv.groupby([\"geneName\"])[\"diseaseId\"].apply(list)\n",
    "gene_disease_dict = gene_disease_series.to_dict()\n",
    "\n",
    "gene_to_list_of_diseases = []\n",
    "\n",
    "#Could be inmproved propably somehow with pandas functionality\n",
    "for gene_id, disease_ids in gene_disease_dict.items():\n",
    "    new_dict = {'diseaseId': disease_ids, 'geneName': str(gene_id)}\n",
    "    gene_to_list_of_diseases.append(new_dict)"
   ]
  },
  {
   "cell_type": "markdown",
   "id": "db36cc4a-e9fe-4b2a-bc6b-c77a34026a17",
   "metadata": {},
   "source": [
    "####  Mapping"
   ]
  },
  {
   "cell_type": "code",
   "execution_count": 61,
   "id": "488e1e78-ea1c-4cab-9eb4-1ba70d5d9b92",
   "metadata": {},
   "outputs": [],
   "source": [
    "gaf_columns = [\n",
    "        \"DB\", \"DB_Object_ID\", \"DB_Object_Symbol\", \"Qualifier\", \"GO_ID\",\n",
    "        \"DB:Reference\", \"Evidence_Code\", \"With_or_From\", \"Aspect\", \"DB_Object_Name\",\n",
    "        \"DB_Object_Synonym\", \"DB_Object_Type\", \"Taxon\", \"Date\", \"Assigned_By\"\n",
    "]\n",
    "# ignoring first column, There were was only one value and it made as double index (atleast I think so).\n",
    "gaf_data = pd.read_csv(FOLDER + \"goa_human.gaf\", sep=\"\\t\", comment=\"!\", names=gaf_columns, skiprows=12,usecols=range(1,16))\n",
    "mapping_gene_to_go = pd.Series(gaf_data.Qualifier.values,index=gaf_data.DB_Object_ID).to_dict()\n",
    "\n",
    "gaf_data\n",
    "mapping_geneName_to_UniProt = pd.Series(gaf_data.DB.values,index=gaf_data.DB_Object_ID).to_dict()\n",
    "mapping_geneName_to_UniProt[\"NUDT4B\"]"
   ]
  },
  {
   "cell_type": "markdown",
   "id": "4247cc6f-3d8e-43a1-8bc5-d3cc9379435f",
   "metadata": {},
   "source": [
    "#### Feature extraction"
   ]
  },
  {
   "cell_type": "code",
   "execution_count": 14,
   "id": "10bef140-1fa6-490e-9c1b-7d1eed4ff650",
   "metadata": {},
   "outputs": [
    {
     "data": {
      "text/plain": [
       "<21666x51836 sparse matrix of type '<class 'numpy.float64'>'\n",
       "\twith 3282990 stored elements in Compressed Sparse Row format>"
      ]
     },
     "execution_count": 14,
     "metadata": {},
     "output_type": "execute_result"
    }
   ],
   "source": [
    "vec = DictVectorizer()\n",
    "matrixGeneDisease = vec.fit_transform(gene_to_list_of_diseases)\n",
    "matrixGeneDisease"
   ]
  },
  {
   "cell_type": "markdown",
   "id": "7545fe18-6846-459c-889a-a073846e6f1a",
   "metadata": {},
   "source": [
    "#### Clustering"
   ]
  },
  {
   "cell_type": "code",
   "execution_count": 15,
   "id": "0d9361f0-1a61-443b-ae6c-931f996a1b7f",
   "metadata": {},
   "outputs": [
    {
     "data": {
      "text/plain": [
       "array([5, 5, 5, ..., 5, 5, 5])"
      ]
     },
     "execution_count": 15,
     "metadata": {},
     "output_type": "execute_result"
    }
   ],
   "source": [
    "cluster = KMeans()\n",
    "result = cluster.fit(matrixGeneDisease)\n",
    "result.labels_"
   ]
  },
  {
   "cell_type": "markdown",
   "id": "c2c004a3-49f4-47f1-b95d-9cffbc304f22",
   "metadata": {},
   "source": [
    "### Creating arrays of geneIdentificators which ontobio takes. (for each cluster)  "
   ]
  },
  {
   "cell_type": "code",
   "execution_count": 100,
   "id": "70829cb1-d684-4717-9ebf-018bc29f6e25",
   "metadata": {},
   "outputs": [],
   "source": [
    "notInUniprot = []\n",
    "clusters = []\n",
    "for i in range(max(result.labels_) + 1):\n",
    "    clusters.append([])\n",
    "\n",
    "for i in range(len(result.labels_)):\n",
    "    if gene_to_list_of_diseases[i][\"geneName\"] in mapping_geneName_to_UniProt:\n",
    "        clusters[result.labels_[i]].append(\"UniProtKB:\" +  mapping_geneName_to_UniProt[gene_to_list_of_diseases[i][\"geneName\"]])\n",
    "        \n",
    "    else:\n",
    "        notInUniprot.append(gene_to_list_of_diseases[i][\"geneName\"])"
   ]
  },
  {
   "cell_type": "code",
   "execution_count": 20,
   "id": "f7baca73-aa32-49d6-87e9-31bdc13d5b93",
   "metadata": {},
   "outputs": [
    {
     "name": "stderr",
     "output_type": "stream",
     "text": [
      "2023-05-01 10:09:46 [WARNING] [PID:7884 TID:6504] [golr_query.py:1804 in `translate_docs_compact`]  >1 relation: ['not', 'contributes_to']\n",
      "2023-05-01 10:09:46 [WARNING] [PID:7884 TID:6504] [golr_query.py:1804 in `translate_docs_compact`]  >1 relation: ['not', 'colocalizes_with']\n",
      "2023-05-01 10:09:47 [WARNING] [PID:7884 TID:6504] [golr_query.py:1804 in `translate_docs_compact`]  >1 relation: ['not', 'colocalizes_with']\n",
      "2023-05-01 10:09:47 [WARNING] [PID:7884 TID:6504] [golr_query.py:1804 in `translate_docs_compact`]  >1 relation: ['not', 'colocalizes_with']\n",
      "2023-05-01 10:09:47 [WARNING] [PID:7884 TID:6504] [golr_query.py:1804 in `translate_docs_compact`]  >1 relation: ['not', 'contributes_to']\n",
      "2023-05-01 10:09:47 [WARNING] [PID:7884 TID:6504] [golr_query.py:1804 in `translate_docs_compact`]  >1 relation: ['not', 'colocalizes_with']\n",
      "2023-05-01 10:09:48 [WARNING] [PID:7884 TID:6504] [golr_query.py:1804 in `translate_docs_compact`]  >1 relation: ['not', 'contributes_to']\n",
      "2023-05-01 10:09:48 [WARNING] [PID:7884 TID:6504] [golr_query.py:1804 in `translate_docs_compact`]  >1 relation: ['not', 'colocalizes_with']\n",
      "2023-05-01 10:09:49 [WARNING] [PID:7884 TID:6504] [golr_query.py:1804 in `translate_docs_compact`]  >1 relation: ['not', 'contributes_to']\n",
      "2023-05-01 10:09:49 [WARNING] [PID:7884 TID:6504] [golr_query.py:1804 in `translate_docs_compact`]  >1 relation: ['not', 'colocalizes_with']\n",
      "2023-05-01 10:09:49 [WARNING] [PID:7884 TID:6504] [golr_query.py:1804 in `translate_docs_compact`]  >1 relation: ['not', 'contributes_to']\n",
      "2023-05-01 10:09:49 [WARNING] [PID:7884 TID:6504] [golr_query.py:1804 in `translate_docs_compact`]  >1 relation: ['not', 'colocalizes_with']\n",
      "2023-05-01 10:09:49 [WARNING] [PID:7884 TID:6504] [golr_query.py:1804 in `translate_docs_compact`]  >1 relation: ['not', 'colocalizes_with']\n",
      "2023-05-01 10:09:49 [WARNING] [PID:7884 TID:6504] [golr_query.py:1804 in `translate_docs_compact`]  >1 relation: ['not', 'colocalizes_with']\n",
      "2023-05-01 10:09:50 [WARNING] [PID:7884 TID:6504] [golr_query.py:1804 in `translate_docs_compact`]  >1 relation: ['not', 'contributes_to']\n",
      "2023-05-01 10:09:50 [WARNING] [PID:7884 TID:6504] [golr_query.py:1804 in `translate_docs_compact`]  >1 relation: ['not', 'contributes_to']\n"
     ]
    }
   ],
   "source": [
    "HUMAN = 'NCBITaxon:9606'\n",
    "PART_OF = 'BFO:0000050'\n",
    "\n",
    "ofactory = OntologyFactory()\n",
    "ont = ofactory.create(\"GO\").subontology(relations=['subClassOf', PART_OF])\n",
    "\n",
    "afactory = AssociationSetFactory()\n",
    "aset = afactory.create(ontology=ont,\n",
    "                       subject_category='gene',\n",
    "                       object_category='function',\n",
    "                       taxon=HUMAN)"
   ]
  },
  {
   "cell_type": "markdown",
   "id": "9b847c0c-08b7-4f9c-8b6f-f4ea77814fb3",
   "metadata": {},
   "source": [
    "### TODO: \n",
    "- Need to add geneNames which are not in UniProt, while googling the names (for example: \"A1BG-AS1\" or \"ABALON\") it seems like they are in RNACentral\n",
    "- Add them to clusters where they belong..."
   ]
  },
  {
   "cell_type": "code",
   "execution_count": 119,
   "id": "7f532add-a333-4cdb-b834-2b7d75d41dda",
   "metadata": {},
   "outputs": [],
   "source": [
    "#test to see if it works\n",
    "for j in notInUniprot:  \n",
    "    if(aset.inferred_types(i)):\n",
    "        print(i)\n",
    "        break"
   ]
  },
  {
   "cell_type": "code",
   "execution_count": 125,
   "id": "0a9ee822-a0d6-4955-8d16-63e1a806fd4d",
   "metadata": {},
   "outputs": [],
   "source": [
    "# looking at the origin of subjects\n",
    "for i in aset.subjects:\n",
    "    if i[0:14] != \"RNAcentral:URS\" and i[0:10] != \"UniProtKB:\" and i[0:14] != \"ComplexPortal:\":\n",
    "        print(i)\n",
    "        "
   ]
  },
  {
   "cell_type": "markdown",
   "id": "97b319fa-3671-402d-8ae4-37883b5bb89f",
   "metadata": {},
   "source": [
    "### Metric:\n",
    "- simple metric, for each pair of genes jaccard_similarity is computed and afterwards divided by the number of these pairs"
   ]
  },
  {
   "cell_type": "code",
   "execution_count": 114,
   "id": "5809960a-b5f2-4834-a23d-0463bb26eec8",
   "metadata": {},
   "outputs": [],
   "source": [
    "def metricCluster(cluster):\n",
    "    counter = 0\n",
    "    result = 0\n",
    "    size_of_cluster = len(cluster)\n",
    "    for i in range(size_of_cluster):\n",
    "        for j in range(i + 1, size_of_cluster):\n",
    "            result += aset.jaccard_similarity(cluster[i],cluster[j])\n",
    "            counter +=1\n",
    "    return result/counter\n",
    "            "
   ]
  },
  {
   "cell_type": "code",
   "execution_count": 115,
   "id": "a75a2bd5-cabf-413c-aeae-e334bc8307b6",
   "metadata": {},
   "outputs": [
    {
     "data": {
      "text/plain": [
       "0.12333764976105262"
      ]
     },
     "execution_count": 115,
     "metadata": {},
     "output_type": "execute_result"
    }
   ],
   "source": [
    "metricCluster(clusters[0])"
   ]
  }
 ],
 "metadata": {
  "kernelspec": {
   "display_name": "Python 3",
   "language": "python",
   "name": "python3"
  },
  "language_info": {
   "codemirror_mode": {
    "name": "ipython",
    "version": 3
   },
   "file_extension": ".py",
   "mimetype": "text/x-python",
   "name": "python",
   "nbconvert_exporter": "python",
   "pygments_lexer": "ipython3",
   "version": "3.8.8"
  }
 },
 "nbformat": 4,
 "nbformat_minor": 5
}
