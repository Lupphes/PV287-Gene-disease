{
 "cells": [
  {
   "cell_type": "code",
   "execution_count": 16,
   "id": "4b8a5429-38be-43ea-94cb-966fc34c3e58",
   "metadata": {},
   "outputs": [
    {
     "ename": "ModuleNotFoundError",
     "evalue": "No module named 'pandas'",
     "output_type": "error",
     "traceback": [
      "\u001b[0;31m---------------------------------------------------------------------------\u001b[0m",
      "\u001b[0;31mModuleNotFoundError\u001b[0m                       Traceback (most recent call last)",
      "Cell \u001b[0;32mIn[16], line 1\u001b[0m\n\u001b[0;32m----> 1\u001b[0m \u001b[39mimport\u001b[39;00m \u001b[39mpandas\u001b[39;00m \u001b[39mas\u001b[39;00m \u001b[39mpd\u001b[39;00m\n\u001b[1;32m      2\u001b[0m \u001b[39mfrom\u001b[39;00m \u001b[39msklearn\u001b[39;00m\u001b[39m.\u001b[39;00m\u001b[39mfeature_extraction\u001b[39;00m \u001b[39mimport\u001b[39;00m DictVectorizer\n\u001b[1;32m      3\u001b[0m \u001b[39mfrom\u001b[39;00m \u001b[39msklearn\u001b[39;00m\u001b[39m.\u001b[39;00m\u001b[39mcluster\u001b[39;00m \u001b[39mimport\u001b[39;00m KMeans\n",
      "\u001b[0;31mModuleNotFoundError\u001b[0m: No module named 'pandas'"
     ]
    }
   ],
   "source": [
    "import pandas as pd\n",
    "from sklearn.feature_extraction import DictVectorizer\n",
    "from sklearn.cluster import KMeans"
   ]
  },
  {
   "cell_type": "markdown",
   "id": "ae37a97b-eea3-44e9-9d48-7897293cc179",
   "metadata": {},
   "source": [
    "#### Data preparation"
   ]
  },
  {
   "cell_type": "code",
   "execution_count": 1,
   "id": "45e1aeea-9e09-4c30-9bdd-1cc4caec4876",
   "metadata": {},
   "outputs": [
    {
     "data": {
      "text/plain": [
       "\"\\n[{'diseaseId': ['C1252354', 'C1252355'], 'geneID': 1048},\\n {'diseaseId': ['C1252486', 'C6142486'], 'geneID': 2011}]\\n \""
      ]
     },
     "execution_count": 1,
     "metadata": {},
     "output_type": "execute_result"
    }
   ],
   "source": [
    "#Desired format\n",
    "'''\n",
    "[{'diseaseId': ['C1252354', 'C1252355'], 'geneID': 1048},\n",
    " {'diseaseId': ['C1252486', 'C6142486'], 'geneID': 2011}]\n",
    " '''"
   ]
  },
  {
   "cell_type": "code",
   "execution_count": 3,
   "id": "62b2d589-d4db-417f-9637-2d99f4db5cf5",
   "metadata": {},
   "outputs": [],
   "source": [
    "gene_disease_csv = pd.read_csv(\"data/gene_disease_view.csv\")\n",
    "gene_disease_series = gene_disease_csv.groupby([\"geneId\"])[\"diseaseId\"].apply(list)\n",
    "gene_disease_dict = gene_disease_series.to_dict()\n",
    "\n",
    "gene_to_list_of_diseases = []\n",
    "\n",
    "for gene_id, disease_ids in gene_disease_dict.items():\n",
    "    new_dict = {'diseaseId': disease_ids, 'geneID': gene_id}\n",
    "    gene_to_list_of_diseases.append(new_dict)"
   ]
  },
  {
   "cell_type": "markdown",
   "id": "4247cc6f-3d8e-43a1-8bc5-d3cc9379435f",
   "metadata": {},
   "source": [
    "#### Feature extraction"
   ]
  },
  {
   "cell_type": "code",
   "execution_count": 4,
   "id": "10bef140-1fa6-490e-9c1b-7d1eed4ff650",
   "metadata": {},
   "outputs": [
    {
     "data": {
      "text/plain": [
       "<21671x30171 sparse matrix of type '<class 'numpy.float64'>'\n",
       "\twith 3282995 stored elements in Compressed Sparse Row format>"
      ]
     },
     "execution_count": 4,
     "metadata": {},
     "output_type": "execute_result"
    }
   ],
   "source": [
    "vec = DictVectorizer()\n",
    "matrixGeneDisease = vec.fit_transform(gene_to_list_of_diseases)\n",
    "matrixGeneDisease"
   ]
  },
  {
   "cell_type": "markdown",
   "id": "7545fe18-6846-459c-889a-a073846e6f1a",
   "metadata": {},
   "source": [
    "#### Clustering"
   ]
  },
  {
   "cell_type": "code",
   "execution_count": 8,
   "id": "0d9361f0-1a61-443b-ae6c-931f996a1b7f",
   "metadata": {},
   "outputs": [
    {
     "data": {
      "text/plain": [
       "array([0, 0, 0, ..., 4, 4, 4])"
      ]
     },
     "execution_count": 8,
     "metadata": {},
     "output_type": "execute_result"
    }
   ],
   "source": [
    "cluster = KMeans()\n",
    "result = cluster.fit(matrixGeneDisease)\n",
    "result.labels_"
   ]
  }
 ],
 "metadata": {
  "kernelspec": {
   "display_name": "Python 3",
   "language": "python",
   "name": "python3"
  },
  "language_info": {
   "codemirror_mode": {
    "name": "ipython",
    "version": 3
   },
   "file_extension": ".py",
   "mimetype": "text/x-python",
   "name": "python",
   "nbconvert_exporter": "python",
   "pygments_lexer": "ipython3",
   "version": "3.11.2"
  }
 },
 "nbformat": 4,
 "nbformat_minor": 5
}
