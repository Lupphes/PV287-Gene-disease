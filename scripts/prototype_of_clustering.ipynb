{
 "cells": [
  {
   "cell_type": "code",
   "execution_count": 22,
   "id": "4b8a5429-38be-43ea-94cb-966fc34c3e58",
   "metadata": {},
   "outputs": [],
   "source": [
    "import pandas as pd\n",
    "from sklearn.feature_extraction import DictVectorizer\n",
    "from sklearn.cluster import KMeans\n",
    "import json"
   ]
  },
  {
   "cell_type": "code",
   "execution_count": 29,
   "id": "cd4ab849-0f61-4fcb-8cc3-8ee67ccd0837",
   "metadata": {},
   "outputs": [],
   "source": [
    "FOLDER = \"./../data/\"\n",
    "MAPPINGS_PATH = FOLDER + \"mapping_gene_to_go.json\""
   ]
  },
  {
   "cell_type": "markdown",
   "id": "ae37a97b-eea3-44e9-9d48-7897293cc179",
   "metadata": {},
   "source": [
    "#### Data preparation for clustering"
   ]
  },
  {
   "cell_type": "code",
   "execution_count": 44,
   "id": "62b2d589-d4db-417f-9637-2d99f4db5cf5",
   "metadata": {},
   "outputs": [
    {
     "name": "stderr",
     "output_type": "stream",
     "text": [
      "C:\\Users\\samue\\anaconda3\\lib\\site-packages\\IPython\\core\\interactiveshell.py:3165: DtypeWarning: Columns (9) have mixed types.Specify dtype option on import or set low_memory=False.\n",
      "  has_raised = await self.run_ast_nodes(code_ast.body, cell_name,\n"
     ]
    }
   ],
   "source": [
    "gene_disease_csv = pd.read_csv(FOLDER+ \"gene_disease_view.csv\")\n",
    "gene_disease_series = gene_disease_csv.groupby([\"geneId\"])[\"diseaseId\"].apply(list)\n",
    "gene_disease_dict = gene_disease_series.to_dict()\n",
    "\n",
    "gene_to_list_of_diseases = []\n",
    "\n",
    "#Could be inmproved propably somehow with pandas functionality\n",
    "for gene_id, disease_ids in gene_disease_dict.items():\n",
    "    new_dict = {'diseaseId': disease_ids, 'geneID': str(gene_id)}\n",
    "    gene_to_list_of_diseases.append(new_dict)"
   ]
  },
  {
   "cell_type": "markdown",
   "id": "db36cc4a-e9fe-4b2a-bc6b-c77a34026a17",
   "metadata": {},
   "source": [
    "#### Gene to GO mapping"
   ]
  },
  {
   "cell_type": "code",
   "execution_count": 35,
   "id": "48331370-bc8a-43ae-bfea-7cd45186b514",
   "metadata": {},
   "outputs": [],
   "source": [
    "if(os.path.isfile(MAPPINGS_PATH)):\n",
    "    with open(MAPPINGS_PATH) as json_file:\n",
    "        mapping_gene_to_go = json.load(json_file)\n",
    "\n",
    "else:\n",
    "    gaf_columns = [\n",
    "        \"DB\", \"DB_Object_ID\", \"DB_Object_Symbol\", \"Qualifier\", \"GO_ID\",\n",
    "        \"DB:Reference\", \"Evidence_Code\", \"With_or_From\", \"Aspect\", \"DB_Object_Name\",\n",
    "        \"DB_Object_Synonym\", \"DB_Object_Type\", \"Taxon\", \"Date\", \"Assigned_By\"\n",
    "    ]\n",
    "    # ignoring first column, There were was only one value and it made as double index (atleast I think so).\n",
    "    gaf_data = pd.read_csv(FOLDER + \"goa_human.gaf\", sep=\"\\t\", comment=\"!\", names=gaf_columns, skiprows=12,usecols=range(1,16))\n",
    "    mapping_gene_to_go = pd.Series(gaf_data.Qualifier.values,index=gaf_data.DB).to_dict()\n",
    "    \n",
    "    with open(MAPPINGS_PATH, \"w\") as fp:\n",
    "        json.dump(mapping_gene_to_go, fp)  # encode dict into JSON\n"
   ]
  },
  {
   "cell_type": "markdown",
   "id": "4247cc6f-3d8e-43a1-8bc5-d3cc9379435f",
   "metadata": {},
   "source": [
    "#### Feature extraction"
   ]
  },
  {
   "cell_type": "code",
   "execution_count": 45,
   "id": "10bef140-1fa6-490e-9c1b-7d1eed4ff650",
   "metadata": {},
   "outputs": [
    {
     "data": {
      "text/plain": [
       "<21671x51841 sparse matrix of type '<class 'numpy.float64'>'\n",
       "\twith 3282995 stored elements in Compressed Sparse Row format>"
      ]
     },
     "execution_count": 45,
     "metadata": {},
     "output_type": "execute_result"
    }
   ],
   "source": [
    "vec = DictVectorizer()\n",
    "matrixGeneDisease = vec.fit_transform(gene_to_list_of_diseases)\n",
    "matrixGeneDisease"
   ]
  },
  {
   "cell_type": "markdown",
   "id": "7545fe18-6846-459c-889a-a073846e6f1a",
   "metadata": {},
   "source": [
    "#### Clustering"
   ]
  },
  {
   "cell_type": "code",
   "execution_count": 47,
   "id": "0d9361f0-1a61-443b-ae6c-931f996a1b7f",
   "metadata": {},
   "outputs": [
    {
     "data": {
      "text/plain": [
       "array([5, 5, 5, ..., 5, 5, 5])"
      ]
     },
     "execution_count": 47,
     "metadata": {},
     "output_type": "execute_result"
    }
   ],
   "source": [
    "cluster = KMeans()\n",
    "result = cluster.fit(matrixGeneDisease)\n",
    "result.labels_"
   ]
  },
  {
   "cell_type": "markdown",
   "id": "b9b89ab6-4a86-4582-a7b3-3f2e0cd0856f",
   "metadata": {},
   "source": [
    "#### TODO \n",
    "- extract geneID from clustering result, my guess is that labels_ are in same order as gene_to_list_of_diseases.\n"
   ]
  },
  {
   "cell_type": "code",
   "execution_count": null,
   "id": "f2e1a068-695d-4a49-ba19-98bfdcc120c7",
   "metadata": {},
   "outputs": [],
   "source": []
  }
 ],
 "metadata": {
  "kernelspec": {
   "display_name": "Python 3",
   "language": "python",
   "name": "python3"
  },
  "language_info": {
   "codemirror_mode": {
    "name": "ipython",
    "version": 3
   },
   "file_extension": ".py",
   "mimetype": "text/x-python",
   "name": "python",
   "nbconvert_exporter": "python",
   "pygments_lexer": "ipython3",
   "version": "3.8.8"
  }
 },
 "nbformat": 4,
 "nbformat_minor": 5
}
